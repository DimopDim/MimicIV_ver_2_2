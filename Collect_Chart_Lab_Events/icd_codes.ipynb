{
 "cells": [
  {
   "cell_type": "code",
   "execution_count": null,
   "id": "dc8cd6ce-c17f-44eb-a5f1-b526a1db3eaf",
   "metadata": {
    "tags": []
   },
   "outputs": [],
   "source": [
    "import gzip\n",
    "import pandas as pd\n",
    "pd.set_option('display.max_colwidth', None)\n",
    "\n",
    "# Set display options to show all columns and rows\n",
    "pd.set_option('display.max_columns', None)\n",
    "#pd.set_option('display.max_rows', None)\n",
    "pd.set_option('display.width', None)\n",
    "\n",
    "compressed_file_path = r\"..\\Datasets\\mimic-iv-2_2\\hosp\\d_icd_diagnoses.csv.gz\"\n",
    "df = pd.read_csv(compressed_file_path, compression='gzip')"
   ]
  },
  {
   "cell_type": "code",
   "execution_count": null,
   "id": "a191a2d1-df42-40cf-bbfd-39a31f2f90cd",
   "metadata": {
    "tags": []
   },
   "outputs": [],
   "source": [
    "display(df)"
   ]
  },
  {
   "cell_type": "code",
   "execution_count": null,
   "id": "67437515-7a0c-4958-b761-5e634454d05c",
   "metadata": {
    "tags": []
   },
   "outputs": [],
   "source": [
    "#ICD10\n",
    "\n",
    "# List of values to filter\n",
    "icd_values_to_keep = ['I60', 'I61', 'I63', 'I65', 'I66']\n",
    "\n",
    "# Filter rows based on the condition\n",
    "filtered_df = df[df['icd_code'].str.contains('|'.join(icd_values_to_keep))]\n",
    "\n",
    "# Display the resulting dataframe\n",
    "display(filtered_df)\n",
    "\n",
    "filtered_df.to_csv('CSV\\Exports\\icd10codes.csv', index=False)"
   ]
  },
  {
   "cell_type": "code",
   "execution_count": null,
   "id": "b77634d2-50ca-43fe-bbf3-ab6f8f8911ef",
   "metadata": {
    "tags": []
   },
   "outputs": [],
   "source": [
    "# List of values to filter\n",
    "icd_values_to_keep = ['430', '431', '433', '434', '435']\n",
    "\n",
    "# Filter rows based on the condition\n",
    "filtered_df = df[df['icd_code'].str.startswith(tuple(icd_values_to_keep))]\n",
    "\n",
    "# Display the resulting dataframe\n",
    "display(filtered_df)\n",
    "\n",
    "# Export to CSV\n",
    "filtered_df.to_csv('CSV/Exports/icd09codes.csv', index=False)"
   ]
  },
  {
   "cell_type": "code",
   "execution_count": null,
   "id": "a11625f3-5fba-47e5-920e-479c36cd36a0",
   "metadata": {},
   "outputs": [],
   "source": []
  },
  {
   "cell_type": "code",
   "execution_count": null,
   "id": "74abe568-5f14-4018-a261-fe03e7c6b2fe",
   "metadata": {},
   "outputs": [],
   "source": []
  },
  {
   "cell_type": "code",
   "execution_count": null,
   "id": "2cdd799d-bbac-49e2-af4f-ce1a69f4a287",
   "metadata": {},
   "outputs": [],
   "source": []
  },
  {
   "cell_type": "code",
   "execution_count": null,
   "id": "b59056e8-5be5-4423-aa29-309830f5d9e2",
   "metadata": {},
   "outputs": [],
   "source": []
  },
  {
   "cell_type": "code",
   "execution_count": null,
   "id": "b45d086e-e334-4137-8282-84aad7271394",
   "metadata": {
    "tags": []
   },
   "outputs": [],
   "source": [
    "# CAUTION: Path with the specific ICD codes from a CSV file \n",
    "icd = pd.read_csv('CSV\\Imports\\icd_stroke.csv')"
   ]
  },
  {
   "cell_type": "code",
   "execution_count": null,
   "id": "a7d6f97b-a614-42fc-a99c-9f0cf87d0914",
   "metadata": {
    "tags": []
   },
   "outputs": [],
   "source": [
    "display(icd)"
   ]
  },
  {
   "cell_type": "code",
   "execution_count": null,
   "id": "251c19d9-8a76-4656-9a7b-8e66aceec272",
   "metadata": {
    "tags": []
   },
   "outputs": [],
   "source": []
  },
  {
   "cell_type": "code",
   "execution_count": null,
   "id": "584275ba-3d82-4def-afff-6c5ff341e355",
   "metadata": {
    "tags": []
   },
   "outputs": [],
   "source": [
    "icd['icd_code'] = icd['icd_code'].astype(str)\n",
    "# Assuming 'icd_code' is the column you want to merge on\n",
    "merged_df = pd.merge(icd, df, on='icd_code')"
   ]
  },
  {
   "cell_type": "code",
   "execution_count": null,
   "id": "1fab6ed7-d145-4ae1-8173-330a078f0c24",
   "metadata": {
    "tags": []
   },
   "outputs": [],
   "source": [
    "display(merged_df)"
   ]
  },
  {
   "cell_type": "code",
   "execution_count": null,
   "id": "c03be8c6-d382-4362-b903-7e42ac682849",
   "metadata": {
    "tags": []
   },
   "outputs": [],
   "source": [
    "# Export the filtered DataFrame to a CSV file\n",
    "merged_df.to_csv('CSV\\Exports\\icd9codes.csv', index=False)"
   ]
  },
  {
   "cell_type": "code",
   "execution_count": null,
   "id": "03749a0a-f19d-41d3-abcc-86baea245d2b",
   "metadata": {},
   "outputs": [],
   "source": []
  }
 ],
 "metadata": {
  "kernelspec": {
   "display_name": "Python 3 (ipykernel)",
   "language": "python",
   "name": "python3"
  },
  "language_info": {
   "codemirror_mode": {
    "name": "ipython",
    "version": 3
   },
   "file_extension": ".py",
   "mimetype": "text/x-python",
   "name": "python",
   "nbconvert_exporter": "python",
   "pygments_lexer": "ipython3",
   "version": "3.9.17"
  }
 },
 "nbformat": 4,
 "nbformat_minor": 5
}
