{
 "cells": [
  {
   "cell_type": "markdown",
   "id": "7918f675-6760-4388-be2b-7c0ae56b842a",
   "metadata": {},
   "source": [
    "# Filter admissions with specific ICD code"
   ]
  },
  {
   "cell_type": "code",
   "execution_count": 1,
   "id": "5b68acc4-3713-487f-b1d9-a78580eedc6a",
   "metadata": {
    "tags": []
   },
   "outputs": [],
   "source": [
    "import gc\n",
    "import gzip\n",
    "import pandas as pd\n",
    "\n",
    "# Set the display option to show all columns\n",
    "pd.set_option('display.max_columns', None)\n",
    "\n",
    "# CAUTION: Path with the specific ICD codes from a CSV file \n",
    "icd = 'CSV\\Imports\\icd_stroke.csv'\n",
    "\n",
    "compressed_file_path = r\"..\\Datasets\\eicu-2_0\\diagnosis.csv.gz\"\n",
    "\n",
    "df = pd.read_csv(compressed_file_path, compression='gzip')\n",
    "\n",
    "# Read the specific ICD codes from a CSV file\n",
    "specific_icd_numbers = pd.read_csv(icd, header=None)"
   ]
  },
  {
   "cell_type": "code",
   "execution_count": 2,
   "id": "53082b89-fc19-4642-b5c9-1d3e36a1e057",
   "metadata": {
    "tags": []
   },
   "outputs": [],
   "source": [
    "# Split the icd9code column and create multiple rows\n",
    "df['icd9code'] = df['icd9code'].str.split(', ')\n",
    "df = df.explode('icd9code')\n",
    "df = df.dropna(subset=['icd9code'])"
   ]
  },
  {
   "cell_type": "code",
   "execution_count": 3,
   "id": "b4bf3288-2306-4c81-a0b3-c8ebd590f76e",
   "metadata": {
    "tags": []
   },
   "outputs": [],
   "source": [
    "# Convert the list of ICD codes to a list of strings\n",
    "specific_icd_numbers = specific_icd_numbers[0].tolist()"
   ]
  },
  {
   "cell_type": "code",
   "execution_count": 4,
   "id": "6c24af5c-5101-464c-8700-28c442233cbf",
   "metadata": {
    "tags": []
   },
   "outputs": [
    {
     "data": {
      "text/html": [
       "<div>\n",
       "<style scoped>\n",
       "    .dataframe tbody tr th:only-of-type {\n",
       "        vertical-align: middle;\n",
       "    }\n",
       "\n",
       "    .dataframe tbody tr th {\n",
       "        vertical-align: top;\n",
       "    }\n",
       "\n",
       "    .dataframe thead th {\n",
       "        text-align: right;\n",
       "    }\n",
       "</style>\n",
       "<table border=\"1\" class=\"dataframe\">\n",
       "  <thead>\n",
       "    <tr style=\"text-align: right;\">\n",
       "      <th></th>\n",
       "      <th>diagnosisid</th>\n",
       "      <th>patientunitstayid</th>\n",
       "      <th>activeupondischarge</th>\n",
       "      <th>diagnosisoffset</th>\n",
       "      <th>diagnosisstring</th>\n",
       "      <th>icd9code</th>\n",
       "      <th>diagnosispriority</th>\n",
       "    </tr>\n",
       "  </thead>\n",
       "  <tbody>\n",
       "    <tr>\n",
       "      <th>307</th>\n",
       "      <td>4262229</td>\n",
       "      <td>141677</td>\n",
       "      <td>True</td>\n",
       "      <td>21</td>\n",
       "      <td>neurologic|disorders of vasculature|stroke|hem...</td>\n",
       "      <td>430</td>\n",
       "      <td>Other</td>\n",
       "    </tr>\n",
       "    <tr>\n",
       "      <th>947</th>\n",
       "      <td>4237805</td>\n",
       "      <td>142974</td>\n",
       "      <td>False</td>\n",
       "      <td>804</td>\n",
       "      <td>neurologic|disorders of vasculature|stroke|isc...</td>\n",
       "      <td>434.91</td>\n",
       "      <td>Primary</td>\n",
       "    </tr>\n",
       "    <tr>\n",
       "      <th>1036</th>\n",
       "      <td>4124998</td>\n",
       "      <td>143056</td>\n",
       "      <td>True</td>\n",
       "      <td>900</td>\n",
       "      <td>neurologic|disorders of vasculature|stroke|isc...</td>\n",
       "      <td>434.91</td>\n",
       "      <td>Major</td>\n",
       "    </tr>\n",
       "    <tr>\n",
       "      <th>1056</th>\n",
       "      <td>4138034</td>\n",
       "      <td>143057</td>\n",
       "      <td>False</td>\n",
       "      <td>57</td>\n",
       "      <td>neurologic|disorders of vasculature|stroke|isc...</td>\n",
       "      <td>434.91</td>\n",
       "      <td>Primary</td>\n",
       "    </tr>\n",
       "    <tr>\n",
       "      <th>1306</th>\n",
       "      <td>3368454</td>\n",
       "      <td>143448</td>\n",
       "      <td>True</td>\n",
       "      <td>25</td>\n",
       "      <td>neurologic|disorders of vasculature|stroke|isc...</td>\n",
       "      <td>434.91</td>\n",
       "      <td>Primary</td>\n",
       "    </tr>\n",
       "    <tr>\n",
       "      <th>...</th>\n",
       "      <td>...</td>\n",
       "      <td>...</td>\n",
       "      <td>...</td>\n",
       "      <td>...</td>\n",
       "      <td>...</td>\n",
       "      <td>...</td>\n",
       "      <td>...</td>\n",
       "    </tr>\n",
       "    <tr>\n",
       "      <th>2709683</th>\n",
       "      <td>46347417</td>\n",
       "      <td>3352817</td>\n",
       "      <td>False</td>\n",
       "      <td>104</td>\n",
       "      <td>neurologic|disorders of vasculature|stroke|isc...</td>\n",
       "      <td>434.91</td>\n",
       "      <td>Other</td>\n",
       "    </tr>\n",
       "    <tr>\n",
       "      <th>2709748</th>\n",
       "      <td>46215232</td>\n",
       "      <td>3352870</td>\n",
       "      <td>True</td>\n",
       "      <td>128</td>\n",
       "      <td>neurologic|disorders of vasculature|stroke|hem...</td>\n",
       "      <td>430</td>\n",
       "      <td>Primary</td>\n",
       "    </tr>\n",
       "    <tr>\n",
       "      <th>2710142</th>\n",
       "      <td>46119636</td>\n",
       "      <td>3353094</td>\n",
       "      <td>False</td>\n",
       "      <td>4338</td>\n",
       "      <td>neurologic|disorders of vasculature|stroke|isc...</td>\n",
       "      <td>434.91</td>\n",
       "      <td>Other</td>\n",
       "    </tr>\n",
       "    <tr>\n",
       "      <th>2710287</th>\n",
       "      <td>46347752</td>\n",
       "      <td>3353144</td>\n",
       "      <td>False</td>\n",
       "      <td>6847</td>\n",
       "      <td>neurologic|disorders of vasculature|stroke|isc...</td>\n",
       "      <td>434.91</td>\n",
       "      <td>Other</td>\n",
       "    </tr>\n",
       "    <tr>\n",
       "      <th>2710318</th>\n",
       "      <td>46347254</td>\n",
       "      <td>3353145</td>\n",
       "      <td>True</td>\n",
       "      <td>11561</td>\n",
       "      <td>neurologic|disorders of vasculature|stroke|isc...</td>\n",
       "      <td>434.91</td>\n",
       "      <td>Major</td>\n",
       "    </tr>\n",
       "  </tbody>\n",
       "</table>\n",
       "<p>6041 rows × 7 columns</p>\n",
       "</div>"
      ],
      "text/plain": [
       "         diagnosisid  patientunitstayid  activeupondischarge  diagnosisoffset  \\\n",
       "307          4262229             141677                 True               21   \n",
       "947          4237805             142974                False              804   \n",
       "1036         4124998             143056                 True              900   \n",
       "1056         4138034             143057                False               57   \n",
       "1306         3368454             143448                 True               25   \n",
       "...              ...                ...                  ...              ...   \n",
       "2709683     46347417            3352817                False              104   \n",
       "2709748     46215232            3352870                 True              128   \n",
       "2710142     46119636            3353094                False             4338   \n",
       "2710287     46347752            3353144                False             6847   \n",
       "2710318     46347254            3353145                 True            11561   \n",
       "\n",
       "                                           diagnosisstring icd9code  \\\n",
       "307      neurologic|disorders of vasculature|stroke|hem...      430   \n",
       "947      neurologic|disorders of vasculature|stroke|isc...   434.91   \n",
       "1036     neurologic|disorders of vasculature|stroke|isc...   434.91   \n",
       "1056     neurologic|disorders of vasculature|stroke|isc...   434.91   \n",
       "1306     neurologic|disorders of vasculature|stroke|isc...   434.91   \n",
       "...                                                    ...      ...   \n",
       "2709683  neurologic|disorders of vasculature|stroke|isc...   434.91   \n",
       "2709748  neurologic|disorders of vasculature|stroke|hem...      430   \n",
       "2710142  neurologic|disorders of vasculature|stroke|isc...   434.91   \n",
       "2710287  neurologic|disorders of vasculature|stroke|isc...   434.91   \n",
       "2710318  neurologic|disorders of vasculature|stroke|isc...   434.91   \n",
       "\n",
       "        diagnosispriority  \n",
       "307                 Other  \n",
       "947               Primary  \n",
       "1036                Major  \n",
       "1056              Primary  \n",
       "1306              Primary  \n",
       "...                   ...  \n",
       "2709683             Other  \n",
       "2709748           Primary  \n",
       "2710142             Other  \n",
       "2710287             Other  \n",
       "2710318             Major  \n",
       "\n",
       "[6041 rows x 7 columns]"
      ]
     },
     "metadata": {},
     "output_type": "display_data"
    }
   ],
   "source": [
    "# Filter rows based on desired_icd9codes\n",
    "filtered_df = df[df['icd9code'].isin(specific_icd_numbers)]\n",
    "\n",
    "filtered_df = filtered_df.copy()\n",
    "filtered_df.drop_duplicates(subset='patientunitstayid', keep='first', inplace=True)\n",
    "\n",
    "# Display the filtered DataFrame\n",
    "display(filtered_df)"
   ]
  },
  {
   "cell_type": "code",
   "execution_count": 5,
   "id": "1cfbd49d-0259-4c4f-bd11-7a15907b6d9e",
   "metadata": {
    "tags": []
   },
   "outputs": [
    {
     "data": {
      "text/plain": [
       "27"
      ]
     },
     "execution_count": 5,
     "metadata": {},
     "output_type": "execute_result"
    }
   ],
   "source": [
    "# Export the filtered DataFrame to a CSV file\n",
    "filtered_df.to_csv('CSV\\Exports\\o01_eicu_diagnosis.csv', index=False, header=True)\n",
    "\n",
    "# Free RAM\n",
    "gc.collect()"
   ]
  }
 ],
 "metadata": {
  "kernelspec": {
   "display_name": "Python 3 (ipykernel)",
   "language": "python",
   "name": "python3"
  },
  "language_info": {
   "codemirror_mode": {
    "name": "ipython",
    "version": 3
   },
   "file_extension": ".py",
   "mimetype": "text/x-python",
   "name": "python",
   "nbconvert_exporter": "python",
   "pygments_lexer": "ipython3",
   "version": "3.9.18"
  }
 },
 "nbformat": 4,
 "nbformat_minor": 5
}
