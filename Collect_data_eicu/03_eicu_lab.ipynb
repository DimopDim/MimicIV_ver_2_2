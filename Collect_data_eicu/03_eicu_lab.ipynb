{
 "cells": [
  {
   "cell_type": "markdown",
   "id": "1141868e-21c6-410a-a946-022695d1e60a",
   "metadata": {},
   "source": [
    "# Collect data from lab"
   ]
  },
  {
   "cell_type": "code",
   "execution_count": 1,
   "id": "db8766b4-2d7c-41ee-87d0-1aa8c8959ebe",
   "metadata": {
    "tags": []
   },
   "outputs": [],
   "source": [
    "import gc\n",
    "import gzip\n",
    "import pandas as pd\n",
    "\n",
    "# Set the display option to show all columns\n",
    "pd.set_option('display.max_columns', None)\n",
    "\n",
    "# Diagnosis file \n",
    "admissions_path = 'CSV\\Exports\\o02_eicu_unique_admissions.csv'\n",
    "\n",
    "compressed_file_path = r\"..\\Datasets\\eicu-2_0\\lab.csv.gz\"\n",
    "\n",
    "df = pd.read_csv(compressed_file_path, compression='gzip')\n",
    "\n",
    "# Read the specific ICD codes from a CSV file\n",
    "admissions_df = pd.read_csv(admissions_path)"
   ]
  },
  {
   "cell_type": "code",
   "execution_count": 2,
   "id": "9899001d-723f-4fd9-a648-62761bcdd835",
   "metadata": {
    "tags": []
   },
   "outputs": [],
   "source": [
    "merged_df = admissions_df.merge(df, on='patientunitstayid', how='inner')\n",
    "\n",
    "# List of columns to be dropped\n",
    "columns_to_drop = ['activeupondischarge', 'diagnosispriority', 'diagnosisstring', 'icd9code',\n",
    "                   'diagnosispriority', 'patienthealthsystemstayid', 'diagnosispriority',\n",
    "                   'hospitalid', 'wardid', 'hospitaladmitoffset', 'hospitaladmitsource',\n",
    "                   'hospitaldischargeyear', 'hospitaldischargetime24', 'hospitaldischargeoffset',\n",
    "                   'hospitaldischargestatus', 'unittype', 'unitadmitsource', 'unitstaytype',\n",
    "                   'unitdischargetime24', 'unitdischargeoffset', 'unitdischargelocation',\n",
    "                   'order_of_appearance', 'labtypeid', 'labresulttext', 'labmeasurenameinterface',\n",
    "                   'diagnosisoffset', 'apacheadmissiondx', 'hospitaladmittime24', 'hospitaldischargelocation',\n",
    "                   'unitvisitnumber', 'labid', 'gender', 'age', 'ethnicity', 'admissionheight', 'unitadmittime24',\n",
    "                   'admissionweight', 'dischargeweight', 'labresultrevisedoffset', 'unitdischargestatus', 'diagnosisid']\n",
    "\n",
    "# Drop the specified columns\n",
    "merged_df = merged_df.drop(columns=columns_to_drop)"
   ]
  },
  {
   "cell_type": "code",
   "execution_count": 3,
   "id": "5cb6e3af-54c2-4fca-a2fd-f885657a6fe0",
   "metadata": {
    "tags": []
   },
   "outputs": [],
   "source": [
    "# Filtering out rows with negative values in the labresultoffset column\n",
    "merged_df = merged_df[merged_df['labresultoffset'] >= 0]\n",
    "\n",
    "# Optional: Resetting the index if you want consecutive integer indices\n",
    "merged_df.reset_index(drop=True, inplace=True)"
   ]
  },
  {
   "cell_type": "code",
   "execution_count": 4,
   "id": "388a3c6f-762e-488e-a699-9744352a2a4f",
   "metadata": {
    "tags": []
   },
   "outputs": [
    {
     "data": {
      "text/plain": [
       "18"
      ]
     },
     "execution_count": 4,
     "metadata": {},
     "output_type": "execute_result"
    }
   ],
   "source": [
    "# Export the filtered DataFrame to a CSV file\n",
    "merged_df.to_csv('CSV\\Exports\\o03_eicu_lab.csv', index=False, header=True)\n",
    "\n",
    "# Free RAM\n",
    "gc.collect()"
   ]
  },
  {
   "cell_type": "code",
   "execution_count": 5,
   "id": "412c940a-4733-4bcb-aa32-4d6e16995e80",
   "metadata": {
    "tags": []
   },
   "outputs": [
    {
     "data": {
      "text/html": [
       "<div>\n",
       "<style scoped>\n",
       "    .dataframe tbody tr th:only-of-type {\n",
       "        vertical-align: middle;\n",
       "    }\n",
       "\n",
       "    .dataframe tbody tr th {\n",
       "        vertical-align: top;\n",
       "    }\n",
       "\n",
       "    .dataframe thead th {\n",
       "        text-align: right;\n",
       "    }\n",
       "</style>\n",
       "<table border=\"1\" class=\"dataframe\">\n",
       "  <thead>\n",
       "    <tr style=\"text-align: right;\">\n",
       "      <th></th>\n",
       "      <th>uniquepid</th>\n",
       "      <th>patientunitstayid</th>\n",
       "      <th>labresultoffset</th>\n",
       "      <th>labname</th>\n",
       "      <th>labresult</th>\n",
       "      <th>labmeasurenamesystem</th>\n",
       "    </tr>\n",
       "  </thead>\n",
       "  <tbody>\n",
       "    <tr>\n",
       "      <th>0</th>\n",
       "      <td>002-11314</td>\n",
       "      <td>204938</td>\n",
       "      <td>3646</td>\n",
       "      <td>creatinine</td>\n",
       "      <td>1.1</td>\n",
       "      <td>mg/dL</td>\n",
       "    </tr>\n",
       "    <tr>\n",
       "      <th>1</th>\n",
       "      <td>002-11314</td>\n",
       "      <td>204938</td>\n",
       "      <td>351</td>\n",
       "      <td>Respiratory Rate</td>\n",
       "      <td>16.0</td>\n",
       "      <td>/min</td>\n",
       "    </tr>\n",
       "    <tr>\n",
       "      <th>2</th>\n",
       "      <td>002-11314</td>\n",
       "      <td>204938</td>\n",
       "      <td>10068</td>\n",
       "      <td>bedside glucose</td>\n",
       "      <td>189.0</td>\n",
       "      <td>mg/dL</td>\n",
       "    </tr>\n",
       "    <tr>\n",
       "      <th>3</th>\n",
       "      <td>002-11314</td>\n",
       "      <td>204938</td>\n",
       "      <td>3646</td>\n",
       "      <td>chloride</td>\n",
       "      <td>115.0</td>\n",
       "      <td>mmol/L</td>\n",
       "    </tr>\n",
       "    <tr>\n",
       "      <th>4</th>\n",
       "      <td>002-11314</td>\n",
       "      <td>204938</td>\n",
       "      <td>351</td>\n",
       "      <td>FiO2</td>\n",
       "      <td>33.0</td>\n",
       "      <td>%</td>\n",
       "    </tr>\n",
       "    <tr>\n",
       "      <th>...</th>\n",
       "      <td>...</td>\n",
       "      <td>...</td>\n",
       "      <td>...</td>\n",
       "      <td>...</td>\n",
       "      <td>...</td>\n",
       "      <td>...</td>\n",
       "    </tr>\n",
       "    <tr>\n",
       "      <th>998076</th>\n",
       "      <td>035-950</td>\n",
       "      <td>3333754</td>\n",
       "      <td>7773</td>\n",
       "      <td>BUN</td>\n",
       "      <td>13.0</td>\n",
       "      <td>mg/dL</td>\n",
       "    </tr>\n",
       "    <tr>\n",
       "      <th>998077</th>\n",
       "      <td>035-950</td>\n",
       "      <td>3333754</td>\n",
       "      <td>7773</td>\n",
       "      <td>chloride</td>\n",
       "      <td>107.0</td>\n",
       "      <td>mmol/L</td>\n",
       "    </tr>\n",
       "    <tr>\n",
       "      <th>998078</th>\n",
       "      <td>035-950</td>\n",
       "      <td>3333754</td>\n",
       "      <td>7773</td>\n",
       "      <td>potassium</td>\n",
       "      <td>3.9</td>\n",
       "      <td>mmol/L</td>\n",
       "    </tr>\n",
       "    <tr>\n",
       "      <th>998079</th>\n",
       "      <td>035-950</td>\n",
       "      <td>3333754</td>\n",
       "      <td>7773</td>\n",
       "      <td>anion gap</td>\n",
       "      <td>7.0</td>\n",
       "      <td>NaN</td>\n",
       "    </tr>\n",
       "    <tr>\n",
       "      <th>998080</th>\n",
       "      <td>035-950</td>\n",
       "      <td>3333754</td>\n",
       "      <td>7773</td>\n",
       "      <td>bicarbonate</td>\n",
       "      <td>26.0</td>\n",
       "      <td>mmol/L</td>\n",
       "    </tr>\n",
       "  </tbody>\n",
       "</table>\n",
       "<p>998081 rows × 6 columns</p>\n",
       "</div>"
      ],
      "text/plain": [
       "        uniquepid  patientunitstayid  labresultoffset           labname  \\\n",
       "0       002-11314             204938             3646        creatinine   \n",
       "1       002-11314             204938              351  Respiratory Rate   \n",
       "2       002-11314             204938            10068   bedside glucose   \n",
       "3       002-11314             204938             3646          chloride   \n",
       "4       002-11314             204938              351              FiO2   \n",
       "...           ...                ...              ...               ...   \n",
       "998076    035-950            3333754             7773               BUN   \n",
       "998077    035-950            3333754             7773          chloride   \n",
       "998078    035-950            3333754             7773         potassium   \n",
       "998079    035-950            3333754             7773         anion gap   \n",
       "998080    035-950            3333754             7773       bicarbonate   \n",
       "\n",
       "        labresult labmeasurenamesystem  \n",
       "0             1.1                mg/dL  \n",
       "1            16.0                 /min  \n",
       "2           189.0                mg/dL  \n",
       "3           115.0               mmol/L  \n",
       "4            33.0                    %  \n",
       "...           ...                  ...  \n",
       "998076       13.0                mg/dL  \n",
       "998077      107.0               mmol/L  \n",
       "998078        3.9               mmol/L  \n",
       "998079        7.0                  NaN  \n",
       "998080       26.0               mmol/L  \n",
       "\n",
       "[998081 rows x 6 columns]"
      ]
     },
     "metadata": {},
     "output_type": "display_data"
    }
   ],
   "source": [
    "display(merged_df)"
   ]
  }
 ],
 "metadata": {
  "kernelspec": {
   "display_name": "Python 3 (ipykernel)",
   "language": "python",
   "name": "python3"
  },
  "language_info": {
   "codemirror_mode": {
    "name": "ipython",
    "version": 3
   },
   "file_extension": ".py",
   "mimetype": "text/x-python",
   "name": "python",
   "nbconvert_exporter": "python",
   "pygments_lexer": "ipython3",
   "version": "3.9.18"
  }
 },
 "nbformat": 4,
 "nbformat_minor": 5
}
